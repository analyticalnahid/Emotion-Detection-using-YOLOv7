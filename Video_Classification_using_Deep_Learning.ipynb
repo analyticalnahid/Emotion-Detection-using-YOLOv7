{
  "cells": [
    {
      "cell_type": "markdown",
      "source": [
        "**Note: You must have installed python 3.10 >= for running this projects. Otherwise you will encounter an error**"
      ],
      "metadata": {
        "id": "jbXcXh9BJTIY"
      }
    },
    {
      "cell_type": "code",
      "source": [
        "!pip uninstall torchvision torch -y\n",
        "!pip install torchvision==0.10.1 torch==1.9.1\n",
        "!pip install -r requirements.txt"
      ],
      "metadata": {
        "id": "SKgBJgp4OW6F"
      },
      "execution_count": null,
      "outputs": []
    },
    {
      "cell_type": "code",
      "source": [],
      "metadata": {
        "id": "Kux30KN2OY_j"
      },
      "execution_count": null,
      "outputs": []
    }
  ],
  "metadata": {
    "colab": {
      "collapsed_sections": [],
      "provenance": []
    },
    "kernelspec": {
      "display_name": "Python 3",
      "name": "python3"
    }
  },
  "nbformat": 4,
  "nbformat_minor": 0
}